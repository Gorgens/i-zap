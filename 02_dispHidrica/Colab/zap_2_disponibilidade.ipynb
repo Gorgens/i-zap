{
  "nbformat": 4,
  "nbformat_minor": 0,
  "metadata": {
    "colab": {
      "name": "zap 2 disponibilidade.ipynb",
      "provenance": [],
      "collapsed_sections": [],
      "toc_visible": true
    },
    "kernelspec": {
      "name": "python3",
      "display_name": "Python 3"
    }
  },
  "cells": [
    {
      "cell_type": "markdown",
      "metadata": {
        "id": "YyKaARsWZGkr",
        "colab_type": "text"
      },
      "source": [
        "# Preparando ambiente"
      ]
    },
    {
      "cell_type": "code",
      "metadata": {
        "id": "7H7auLf6wU8o",
        "colab_type": "code",
        "colab": {
          "base_uri": "https://localhost:8080/",
          "height": 1000
        },
        "outputId": "6f7e41c9-f96d-42d8-f99f-2844be7d1c8f"
      },
      "source": [
        "!curl -L http://download.osgeo.org/libspatialindex/spatialindex-src-1.8.5.tar.gz 2>/dev/null | tar xz\n",
        "!apt-get install -qq g++ make\n",
        "import os\n",
        "os.chdir('/content/spatialindex-src-1.8.5')\n",
        "!mount -o remount,exec /content\n",
        "!./configure 2>&1 >/dev/null && make 2>&1 >/dev/null && make install && ldconfig\n",
        "!pip install -q rtree"
      ],
      "execution_count": 1,
      "outputs": [
        {
          "output_type": "stream",
          "text": [
            "mount: /content: mount point not mounted or bad option.\n",
            "./configure: line 6204: /usr/bin/file: No such file or directory\n",
            "/content/spatialindex-src-1.8.5/missing: Unknown `--is-lightweight' option\n",
            "Try `/content/spatialindex-src-1.8.5/missing --help' for more information\n",
            "configure: WARNING: 'missing' script is too old or missing\n",
            "Making install in src\n",
            "make[1]: Entering directory '/content/spatialindex-src-1.8.5/src'\n",
            "Making install in storagemanager\n",
            "make[2]: Entering directory '/content/spatialindex-src-1.8.5/src/storagemanager'\n",
            "make[3]: Entering directory '/content/spatialindex-src-1.8.5/src/storagemanager'\n",
            "make[3]: Nothing to be done for 'install-exec-am'.\n",
            "make[3]: Nothing to be done for 'install-data-am'.\n",
            "make[3]: Leaving directory '/content/spatialindex-src-1.8.5/src/storagemanager'\n",
            "make[2]: Leaving directory '/content/spatialindex-src-1.8.5/src/storagemanager'\n",
            "Making install in spatialindex\n",
            "make[2]: Entering directory '/content/spatialindex-src-1.8.5/src/spatialindex'\n",
            "make[3]: Entering directory '/content/spatialindex-src-1.8.5/src/spatialindex'\n",
            "make[3]: Nothing to be done for 'install-exec-am'.\n",
            "make[3]: Nothing to be done for 'install-data-am'.\n",
            "make[3]: Leaving directory '/content/spatialindex-src-1.8.5/src/spatialindex'\n",
            "make[2]: Leaving directory '/content/spatialindex-src-1.8.5/src/spatialindex'\n",
            "Making install in rtree\n",
            "make[2]: Entering directory '/content/spatialindex-src-1.8.5/src/rtree'\n",
            "make[3]: Entering directory '/content/spatialindex-src-1.8.5/src/rtree'\n",
            "make[3]: Nothing to be done for 'install-exec-am'.\n",
            "make[3]: Nothing to be done for 'install-data-am'.\n",
            "make[3]: Leaving directory '/content/spatialindex-src-1.8.5/src/rtree'\n",
            "make[2]: Leaving directory '/content/spatialindex-src-1.8.5/src/rtree'\n",
            "Making install in mvrtree\n",
            "make[2]: Entering directory '/content/spatialindex-src-1.8.5/src/mvrtree'\n",
            "make[3]: Entering directory '/content/spatialindex-src-1.8.5/src/mvrtree'\n",
            "make[3]: Nothing to be done for 'install-exec-am'.\n",
            "make[3]: Nothing to be done for 'install-data-am'.\n",
            "make[3]: Leaving directory '/content/spatialindex-src-1.8.5/src/mvrtree'\n",
            "make[2]: Leaving directory '/content/spatialindex-src-1.8.5/src/mvrtree'\n",
            "Making install in tprtree\n",
            "make[2]: Entering directory '/content/spatialindex-src-1.8.5/src/tprtree'\n",
            "make[3]: Entering directory '/content/spatialindex-src-1.8.5/src/tprtree'\n",
            "make[3]: Nothing to be done for 'install-exec-am'.\n",
            "make[3]: Nothing to be done for 'install-data-am'.\n",
            "make[3]: Leaving directory '/content/spatialindex-src-1.8.5/src/tprtree'\n",
            "make[2]: Leaving directory '/content/spatialindex-src-1.8.5/src/tprtree'\n",
            "Making install in tools\n",
            "make[2]: Entering directory '/content/spatialindex-src-1.8.5/src/tools'\n",
            "make[3]: Entering directory '/content/spatialindex-src-1.8.5/src/tools'\n",
            "make[3]: Nothing to be done for 'install-exec-am'.\n",
            "make[3]: Nothing to be done for 'install-data-am'.\n",
            "make[3]: Leaving directory '/content/spatialindex-src-1.8.5/src/tools'\n",
            "make[2]: Leaving directory '/content/spatialindex-src-1.8.5/src/tools'\n",
            "Making install in capi\n",
            "make[2]: Entering directory '/content/spatialindex-src-1.8.5/src/capi'\n",
            "make[3]: Entering directory '/content/spatialindex-src-1.8.5/src/capi'\n",
            "make[3]: Nothing to be done for 'install-exec-am'.\n",
            "make[3]: Nothing to be done for 'install-data-am'.\n",
            "make[3]: Leaving directory '/content/spatialindex-src-1.8.5/src/capi'\n",
            "make[2]: Leaving directory '/content/spatialindex-src-1.8.5/src/capi'\n",
            "make[2]: Entering directory '/content/spatialindex-src-1.8.5/src'\n",
            "make[3]: Entering directory '/content/spatialindex-src-1.8.5/src'\n",
            "make[3]: Nothing to be done for 'install-exec-am'.\n",
            " /bin/mkdir -p '/usr/local/lib/pkgconfig'\n",
            " /usr/bin/install -c -m 644 libspatialindex.pc '/usr/local/lib/pkgconfig'\n",
            "make[3]: Leaving directory '/content/spatialindex-src-1.8.5/src'\n",
            "make[2]: Leaving directory '/content/spatialindex-src-1.8.5/src'\n",
            "make[1]: Leaving directory '/content/spatialindex-src-1.8.5/src'\n",
            "Making install in .\n",
            "make[1]: Entering directory '/content/spatialindex-src-1.8.5'\n",
            "make[2]: Entering directory '/content/spatialindex-src-1.8.5'\n",
            " /bin/mkdir -p '/usr/local/lib'\n",
            " /bin/bash ./libtool   --mode=install /usr/bin/install -c   libspatialindex.la libspatialindex_c.la '/usr/local/lib'\n",
            "libtool: install: /usr/bin/install -c .libs/libspatialindex.so.4.0.1 /usr/local/lib/libspatialindex.so.4.0.1\n",
            "libtool: install: (cd /usr/local/lib && { ln -s -f libspatialindex.so.4.0.1 libspatialindex.so.4 || { rm -f libspatialindex.so.4 && ln -s libspatialindex.so.4.0.1 libspatialindex.so.4; }; })\n",
            "libtool: install: (cd /usr/local/lib && { ln -s -f libspatialindex.so.4.0.1 libspatialindex.so || { rm -f libspatialindex.so && ln -s libspatialindex.so.4.0.1 libspatialindex.so; }; })\n",
            "libtool: install: /usr/bin/install -c .libs/libspatialindex.lai /usr/local/lib/libspatialindex.la\n",
            "libtool: install: warning: relinking `libspatialindex_c.la'\n",
            "libtool: install: (cd /content/spatialindex-src-1.8.5; /bin/bash /content/spatialindex-src-1.8.5/libtool  --tag CC --mode=relink gcc -Wall -Wno-long-long -pedantic -version-info 4:1:0 -no-undefined -lstdc++ -o libspatialindex_c.la -rpath /usr/local/lib libspatialindex.la src/capi/libsidxc.la -lpthread )\n",
            "libtool: relink: gcc -shared  -fPIC -DPIC  -Wl,--whole-archive src/capi/.libs/libsidxc.a -Wl,--no-whole-archive  -lstdc++ -L/usr/local/lib -lspatialindex -lpthread    -Wl,-soname -Wl,libspatialindex_c.so.4 -o .libs/libspatialindex_c.so.4.0.1\n",
            "libtool: install: /usr/bin/install -c .libs/libspatialindex_c.so.4.0.1T /usr/local/lib/libspatialindex_c.so.4.0.1\n",
            "libtool: install: (cd /usr/local/lib && { ln -s -f libspatialindex_c.so.4.0.1 libspatialindex_c.so.4 || { rm -f libspatialindex_c.so.4 && ln -s libspatialindex_c.so.4.0.1 libspatialindex_c.so.4; }; })\n",
            "libtool: install: (cd /usr/local/lib && { ln -s -f libspatialindex_c.so.4.0.1 libspatialindex_c.so || { rm -f libspatialindex_c.so && ln -s libspatialindex_c.so.4.0.1 libspatialindex_c.so; }; })\n",
            "libtool: install: /usr/bin/install -c .libs/libspatialindex_c.lai /usr/local/lib/libspatialindex_c.la\n",
            "libtool: install: /usr/bin/install -c .libs/libspatialindex.a /usr/local/lib/libspatialindex.a\n",
            "libtool: install: chmod 644 /usr/local/lib/libspatialindex.a\n",
            "libtool: install: ranlib /usr/local/lib/libspatialindex.a\n",
            "libtool: install: /usr/bin/install -c .libs/libspatialindex_c.a /usr/local/lib/libspatialindex_c.a\n",
            "libtool: install: chmod 644 /usr/local/lib/libspatialindex_c.a\n",
            "libtool: install: ranlib /usr/local/lib/libspatialindex_c.a\n",
            "libtool: finish: PATH=\"/usr/local/nvidia/bin:/usr/local/cuda/bin:/usr/local/sbin:/usr/local/bin:/usr/sbin:/usr/bin:/sbin:/bin:/tools/node/bin:/tools/google-cloud-sdk/bin:/opt/bin:/sbin\" ldconfig -n /usr/local/lib\n",
            "----------------------------------------------------------------------\n",
            "Libraries have been installed in:\n",
            "   /usr/local/lib\n",
            "\n",
            "If you ever happen to want to link against installed libraries\n",
            "in a given directory, LIBDIR, you must either use libtool, and\n",
            "specify the full pathname of the library, or use the `-LLIBDIR'\n",
            "flag during linking and do at least one of the following:\n",
            "   - add LIBDIR to the `LD_LIBRARY_PATH' environment variable\n",
            "     during execution\n",
            "   - add LIBDIR to the `LD_RUN_PATH' environment variable\n",
            "     during linking\n",
            "   - use the `-Wl,-rpath -Wl,LIBDIR' linker flag\n",
            "   - have your system administrator add LIBDIR to `/etc/ld.so.conf'\n",
            "\n",
            "See any operating system documentation about shared libraries for\n",
            "more information, such as the ld(1) and ld.so(8) manual pages.\n",
            "----------------------------------------------------------------------\n",
            "make[2]: Nothing to be done for 'install-data-am'.\n",
            "make[2]: Leaving directory '/content/spatialindex-src-1.8.5'\n",
            "make[1]: Leaving directory '/content/spatialindex-src-1.8.5'\n",
            "Making install in test\n",
            "make[1]: Entering directory '/content/spatialindex-src-1.8.5/test'\n",
            "Making install in geometry\n",
            "make[2]: Entering directory '/content/spatialindex-src-1.8.5/test/geometry'\n",
            "make[3]: Entering directory '/content/spatialindex-src-1.8.5/test/geometry'\n",
            "make[3]: Nothing to be done for 'install-exec-am'.\n",
            "make[3]: Nothing to be done for 'install-data-am'.\n",
            "make[3]: Leaving directory '/content/spatialindex-src-1.8.5/test/geometry'\n",
            "make[2]: Leaving directory '/content/spatialindex-src-1.8.5/test/geometry'\n",
            "Making install in rtree\n",
            "make[2]: Entering directory '/content/spatialindex-src-1.8.5/test/rtree'\n",
            "make[3]: Entering directory '/content/spatialindex-src-1.8.5/test/rtree'\n",
            "make[3]: Nothing to be done for 'install-exec-am'.\n",
            "make[3]: Nothing to be done for 'install-data-am'.\n",
            "make[3]: Leaving directory '/content/spatialindex-src-1.8.5/test/rtree'\n",
            "make[2]: Leaving directory '/content/spatialindex-src-1.8.5/test/rtree'\n",
            "Making install in mvrtree\n",
            "make[2]: Entering directory '/content/spatialindex-src-1.8.5/test/mvrtree'\n",
            "make[3]: Entering directory '/content/spatialindex-src-1.8.5/test/mvrtree'\n",
            "make[3]: Nothing to be done for 'install-exec-am'.\n",
            "make[3]: Nothing to be done for 'install-data-am'.\n",
            "make[3]: Leaving directory '/content/spatialindex-src-1.8.5/test/mvrtree'\n",
            "make[2]: Leaving directory '/content/spatialindex-src-1.8.5/test/mvrtree'\n",
            "Making install in tprtree\n",
            "make[2]: Entering directory '/content/spatialindex-src-1.8.5/test/tprtree'\n",
            "make[3]: Entering directory '/content/spatialindex-src-1.8.5/test/tprtree'\n",
            "make[3]: Nothing to be done for 'install-exec-am'.\n",
            "make[3]: Nothing to be done for 'install-data-am'.\n",
            "make[3]: Leaving directory '/content/spatialindex-src-1.8.5/test/tprtree'\n",
            "make[2]: Leaving directory '/content/spatialindex-src-1.8.5/test/tprtree'\n",
            "make[2]: Entering directory '/content/spatialindex-src-1.8.5/test'\n",
            "make[3]: Entering directory '/content/spatialindex-src-1.8.5/test'\n",
            "make[3]: Nothing to be done for 'install-exec-am'.\n",
            "make[3]: Nothing to be done for 'install-data-am'.\n",
            "make[3]: Leaving directory '/content/spatialindex-src-1.8.5/test'\n",
            "make[2]: Leaving directory '/content/spatialindex-src-1.8.5/test'\n",
            "make[1]: Leaving directory '/content/spatialindex-src-1.8.5/test'\n",
            "Making install in include\n",
            "make[1]: Entering directory '/content/spatialindex-src-1.8.5/include'\n",
            "make[2]: Entering directory '/content/spatialindex-src-1.8.5/include'\n",
            "make[2]: Nothing to be done for 'install-exec-am'.\n",
            " /bin/mkdir -p '/usr/local/include'\n",
            " /bin/mkdir -p '/usr/local/include/spatialindex/tools'\n",
            " /usr/bin/install -c -m 644  spatialindex/tools/PointerPool.h spatialindex/tools/PoolPointer.h spatialindex/tools/rand48.h spatialindex/tools/SmartPointer.h spatialindex/tools/Tools.h '/usr/local/include/spatialindex/tools'\n",
            " /bin/mkdir -p '/usr/local/include/spatialindex'\n",
            " /usr/bin/install -c -m 644  spatialindex/SpatialIndex.h spatialindex/RTree.h spatialindex/MVRTree.h spatialindex/TPRTree.h spatialindex/Point.h spatialindex/Region.h spatialindex/LineSegment.h spatialindex/TimePoint.h spatialindex/TimeRegion.h spatialindex/MovingPoint.h spatialindex/MovingRegion.h spatialindex/Version.h '/usr/local/include/spatialindex'\n",
            " /bin/mkdir -p '/usr/local/include/spatialindex/capi'\n",
            " /usr/bin/install -c -m 644  spatialindex/capi/BoundsQuery.h spatialindex/capi/CountVisitor.h spatialindex/capi/CustomStorage.h spatialindex/capi/DataStream.h spatialindex/capi/Error.h spatialindex/capi/IdVisitor.h spatialindex/capi/Index.h spatialindex/capi/LeafQuery.h spatialindex/capi/ObjVisitor.h spatialindex/capi/sidx_api.h spatialindex/capi/sidx_export.h spatialindex/capi/sidx_config.h spatialindex/capi/sidx_impl.h spatialindex/capi/Utility.h '/usr/local/include/spatialindex/capi'\n",
            "make[2]: Leaving directory '/content/spatialindex-src-1.8.5/include'\n",
            "make[1]: Leaving directory '/content/spatialindex-src-1.8.5/include'\n",
            "/sbin/ldconfig.real: /usr/local/lib/python3.6/dist-packages/ideep4py/lib/libmkldnn.so.0 is not a symbolic link\n",
            "\n"
          ],
          "name": "stdout"
        }
      ]
    },
    {
      "cell_type": "code",
      "metadata": {
        "id": "35EPeY0Sz6PD",
        "colab_type": "code",
        "colab": {
          "base_uri": "https://localhost:8080/",
          "height": 459
        },
        "outputId": "f9d9d49d-5596-4aa9-8565-437cf71ea4e6"
      },
      "source": [
        "!pip install --upgrade geopandas\n",
        "!pip install --upgrade rtree\n",
        "!pip install --upgrade pyshp\n",
        "!pip install --upgrade shapely\n",
        "!pip install --upgrade descartes"
      ],
      "execution_count": 2,
      "outputs": [
        {
          "output_type": "stream",
          "text": [
            "Requirement already up-to-date: geopandas in /usr/local/lib/python3.6/dist-packages (0.8.0)\n",
            "Requirement already satisfied, skipping upgrade: pyproj>=2.2.0 in /usr/local/lib/python3.6/dist-packages (from geopandas) (2.6.1.post1)\n",
            "Requirement already satisfied, skipping upgrade: fiona in /usr/local/lib/python3.6/dist-packages (from geopandas) (1.8.13.post1)\n",
            "Requirement already satisfied, skipping upgrade: shapely in /usr/local/lib/python3.6/dist-packages (from geopandas) (1.7.0)\n",
            "Requirement already satisfied, skipping upgrade: pandas>=0.23.0 in /usr/local/lib/python3.6/dist-packages (from geopandas) (1.0.5)\n",
            "Requirement already satisfied, skipping upgrade: click-plugins>=1.0 in /usr/local/lib/python3.6/dist-packages (from fiona->geopandas) (1.1.1)\n",
            "Requirement already satisfied, skipping upgrade: munch in /usr/local/lib/python3.6/dist-packages (from fiona->geopandas) (2.5.0)\n",
            "Requirement already satisfied, skipping upgrade: click<8,>=4.0 in /usr/local/lib/python3.6/dist-packages (from fiona->geopandas) (7.1.2)\n",
            "Requirement already satisfied, skipping upgrade: cligj>=0.5 in /usr/local/lib/python3.6/dist-packages (from fiona->geopandas) (0.5.0)\n",
            "Requirement already satisfied, skipping upgrade: attrs>=17 in /usr/local/lib/python3.6/dist-packages (from fiona->geopandas) (19.3.0)\n",
            "Requirement already satisfied, skipping upgrade: six>=1.7 in /usr/local/lib/python3.6/dist-packages (from fiona->geopandas) (1.12.0)\n",
            "Requirement already satisfied, skipping upgrade: numpy>=1.13.3 in /usr/local/lib/python3.6/dist-packages (from pandas>=0.23.0->geopandas) (1.18.5)\n",
            "Requirement already satisfied, skipping upgrade: python-dateutil>=2.6.1 in /usr/local/lib/python3.6/dist-packages (from pandas>=0.23.0->geopandas) (2.8.1)\n",
            "Requirement already satisfied, skipping upgrade: pytz>=2017.2 in /usr/local/lib/python3.6/dist-packages (from pandas>=0.23.0->geopandas) (2018.9)\n",
            "Requirement already up-to-date: rtree in /usr/local/lib/python3.6/dist-packages (0.9.4)\n",
            "Requirement already satisfied, skipping upgrade: setuptools in /usr/local/lib/python3.6/dist-packages (from rtree) (47.3.1)\n",
            "Requirement already up-to-date: pyshp in /usr/local/lib/python3.6/dist-packages (2.1.0)\n",
            "Requirement already up-to-date: shapely in /usr/local/lib/python3.6/dist-packages (1.7.0)\n",
            "Requirement already up-to-date: descartes in /usr/local/lib/python3.6/dist-packages (1.1.0)\n",
            "Requirement already satisfied, skipping upgrade: matplotlib in /usr/local/lib/python3.6/dist-packages (from descartes) (3.2.2)\n",
            "Requirement already satisfied, skipping upgrade: python-dateutil>=2.1 in /usr/local/lib/python3.6/dist-packages (from matplotlib->descartes) (2.8.1)\n",
            "Requirement already satisfied, skipping upgrade: cycler>=0.10 in /usr/local/lib/python3.6/dist-packages (from matplotlib->descartes) (0.10.0)\n",
            "Requirement already satisfied, skipping upgrade: pyparsing!=2.0.4,!=2.1.2,!=2.1.6,>=2.0.1 in /usr/local/lib/python3.6/dist-packages (from matplotlib->descartes) (2.4.7)\n",
            "Requirement already satisfied, skipping upgrade: kiwisolver>=1.0.1 in /usr/local/lib/python3.6/dist-packages (from matplotlib->descartes) (1.2.0)\n",
            "Requirement already satisfied, skipping upgrade: numpy>=1.11 in /usr/local/lib/python3.6/dist-packages (from matplotlib->descartes) (1.18.5)\n",
            "Requirement already satisfied, skipping upgrade: six>=1.5 in /usr/local/lib/python3.6/dist-packages (from python-dateutil>=2.1->matplotlib->descartes) (1.12.0)\n"
          ],
          "name": "stdout"
        }
      ]
    },
    {
      "cell_type": "code",
      "metadata": {
        "id": "UV2WDGRLxdLO",
        "colab_type": "code",
        "colab": {}
      },
      "source": [
        "import pandas as pd\n",
        "import geopandas\n",
        "import matplotlib.pyplot as plt"
      ],
      "execution_count": 3,
      "outputs": []
    },
    {
      "cell_type": "code",
      "metadata": {
        "id": "r-c1dZW9R-To",
        "colab_type": "code",
        "colab": {}
      },
      "source": [
        "PATH = '/content/drive/My Drive/Colab datasets/izap/'\n",
        "VAZFILE = '2406_JQ_Igam_UFV_reg_vazao_lin.shp'\n",
        "OTTOFILE = '0102_jq_otto_bacia_pol.shp'\n",
        "CSV = 'OutorgasFelicioDosSantos.csv'\n",
        "\n",
        "# EPSG = 4326\n",
        "# CODRIO = \"7582998\"\n"
      ],
      "execution_count": 4,
      "outputs": []
    },
    {
      "cell_type": "markdown",
      "metadata": {
        "id": "tZxxItxeR3zK",
        "colab_type": "text"
      },
      "source": [
        "# Disponibilidade hidrica"
      ]
    },
    {
      "cell_type": "markdown",
      "metadata": {
        "id": "8KnDmWxv0XuM",
        "colab_type": "text"
      },
      "source": [
        "## Parte 1 - Organizar e importar outorgas dentro da bacia"
      ]
    },
    {
      "cell_type": "code",
      "metadata": {
        "id": "TApUNGY2tAYZ",
        "colab_type": "code",
        "colab": {
          "base_uri": "https://localhost:8080/",
          "height": 285
        },
        "outputId": "9eed234d-bef9-466f-ebd7-cd485776ed04"
      },
      "source": [
        "bacia = geopandas.read_file(PATH+'zapRibSantana.gpkg', layer='bacia')\n",
        "bacia.crs = 'epsg:4326'\n",
        "bacia.plot(color='white', edgecolor='black')"
      ],
      "execution_count": 5,
      "outputs": [
        {
          "output_type": "execute_result",
          "data": {
            "text/plain": [
              "<matplotlib.axes._subplots.AxesSubplot at 0x7fc03686c470>"
            ]
          },
          "metadata": {
            "tags": []
          },
          "execution_count": 5
        },
        {
          "output_type": "display_data",
          "data": {
            "image/png": "[encoded data removed]",
            "text/plain": [
              "<Figure size 432x288 with 1 Axes>"
            ]
          },
          "metadata": {
            "tags": [],
            "needs_background": "light"
          }
        }
      ]
    },
    {
      "cell_type": "code",
      "metadata": {
        "id": "UuVEhZxlt-Kt",
        "colab_type": "code",
        "colab": {}
      },
      "source": [
        "df = pd.read_csv(PATH+CSV, encoding='latin-1')\n",
        "df.rename(columns={'Portaria':'portaria',\n",
        "    'Data de Publicação': 'publicacao',\n",
        "    'Data de Vencimento da Portaria': 'vencimento',\n",
        "    'Status Processo': 'status',\n",
        "    'Empreendedor': 'pf',\n",
        "    'CPF_CNPJ Empreendedor': 'cpfCnpjPf',\n",
        "    'Endereço Empreendedor': 'enderecoPf',\n",
        "    'Número Empreendedor': 'numPf',\n",
        "    'Complemento Empreendedor': 'complementoPf',\n",
        "    'Bairro Empreendedor': 'bairroPf',\n",
        "    'Município Empreendedor': 'municipioPf',\n",
        "    'UF Empreendedor': 'estadoPf',\n",
        "    'CEP Empreendedor': 'cepPf',\n",
        "    'Telefone Empreendedor': 'telefonePf',\n",
        "    'Caixa Postal Empreendedor': 'caixaPostalPf',\n",
        "    'Empreendimento': 'Pj',\n",
        "    'CPF_CNPJ Empreendimento': 'cpfCnpjPj',\n",
        "    'Endereço Empreendimento': 'enderecoPj',\n",
        "    'Número Empreendimento': 'numPj',\n",
        "    'Complemento Empreendimento': 'complementoPj',\n",
        "    'Bairro Empreendimento': 'bairroPj',\n",
        "    'Município Empreendimento': 'municipioPj',\n",
        "    'UF Empreendimento': 'estadoPj',\n",
        "    'CEP Empreendimento': 'cepPj',\n",
        "    'Telefone Empreendimento': 'telefonePj',\n",
        "    'Caixa Postal Empreendimento': 'caixaPostalPj',\n",
        "    'Bacia Federal GEO': 'baciaFederal',\n",
        "    'Bacia Estadual': 'baciaEstadual',\n",
        "    'UPGRH': 'upgrh',\n",
        "    'Curso D´água': 'cursoDagua',\n",
        "    'Tipo': 'tipo',\n",
        "    'Codigo_Modo_Uso': 'codigoUso',\n",
        "    'Modo de Uso': 'modoUso',\n",
        "    'Área inundada': 'areaInundada',\n",
        "    'Volume de acumulação': 'volAcumulacao',\n",
        "    'Finalidades': 'finalidades',\n",
        "    'Latitude': 'latitude',\n",
        "    'Longitude': 'longitude',\n",
        "    'Latitude Grau': 'latGrau',\n",
        "    'Latitude Minutos': 'latMin',\n",
        "    'Latitude Segundos': 'latSeg',\n",
        "    'Longitude Graus': 'longGrau',\n",
        "    'Longitude Minutos': 'longMin',\n",
        "    'Longitude Segundos': 'longSeg',\n",
        "    'UTM X': 'utmX',\n",
        "    'UTM Y': 'utmY',\n",
        "    'DATUM': 'datum',\n",
        "    'Fuso': \"fuso\",\n",
        "    'Meridiano Central': 'meridiano',\n",
        "    'Unidade_Vazao': 'unidadeVazao',\n",
        "    'Vazao Jan': 'vazaoJan',\n",
        "    'Vazao Fev': 'vazaoFev',\n",
        "    'Vazao Mar': 'vazaoMar',\n",
        "    'Vazao Abr': 'vazaoAbr',\n",
        "    'Vazao Mai': 'vazaoMai',\n",
        "    'Vazao Jun': 'vazaoJun',\n",
        "    'Vazao Jul': 'vazaoJul',\n",
        "    'Vazao Ago': 'vazaoAgo',\n",
        "    'Vazao Set': 'vazaoSet',\n",
        "    'Vazao Out': 'vazaoOut',\n",
        "    'Vazao Nov': 'vazaoNov',\n",
        "    'Vazao Dez': 'vazaoDez',\n",
        "    'Captacao Jan': 'capJan',\n",
        "    'Captacao Fev': 'capFev',\n",
        "    'Captacao Mar': 'capMar',\n",
        "    'Captacao Abr': 'capAbr',\n",
        "    'Captacao Mai': 'caoMai',\n",
        "    'Captacao Jun': 'capJun',\n",
        "    'Captacao Jul': 'capJul',\n",
        "    'Captacao Ago': 'capAgo',\n",
        "    'Captacao Set': 'capSet',\n",
        "    'Captacao Out': 'capOut',\n",
        "    'Captacao Nov': 'capNov',\n",
        "    'Captacao Dez': 'capDez',\n",
        "    'Dia/Mes Jan': 'diaMesJan',\n",
        "    'Dia/Mes Fev': 'diaMesFev',\n",
        "    'Dia/Mes Mar': 'diaMesMar',\n",
        "    'Dia/Mes Abr': 'diaMesAbr',\n",
        "    'Dia/Mes Mai': 'diaMesMai',\n",
        "    'Dia/Mes Jun': 'diaMesJun',\n",
        "    'Dia/Mes Jul': 'diaMesJul',\n",
        "    'Dia/Mes Ago': 'diaMesAgo',\n",
        "    'Dia/Mes Set': 'diaMesSet',\n",
        "    'Dia/Mes Out': 'diaMesOut',\n",
        "    'Dia/Mes Nov': 'diaMesNov',\n",
        "    'Dia/Mes Dez': 'diaMesDez',\n",
        "    'DES_ATIVIDADE': 'desAtividade',\n",
        "    'COD_COPAM': 'codCopam',\n",
        "    'TIPO_LICENCA': 'tipoLicenca',\n",
        "    'DNPM': 'dnpm',\n",
        "    'PORTE': 'porte',\n",
        "    'CLASSE': 'classe',\n",
        "    'Uso Insignificante': 'usoInsignificante',\n",
        "    'Data Maxima da Decisao': 'dataMaxDecisao',\n",
        "    'Formalizacao': 'formalizacao',\n",
        "    'Concessao': 'concessao',\n",
        "    'OBSERVACAO': 'observacao',\n",
        "    'Num_FCE': 'numFce',\n",
        "    'Ano_FCE': 'anoFce',\n",
        "    'Num_FOB': 'numFob',\n",
        "    'Ano_FOB': 'anoFob',\n",
        "    'OBS_VALOR_COBRANCA': 'valorCobranca',\n",
        "    'VALOR_LICENCIAMENTO': 'valorLicenciamento',\n",
        "    'VALOR_ANALISE': 'valorAnalise',\n",
        "    'VALOR_IGAM': 'valorIgam',\n",
        "    'VALOR_LICENCIAMENTO_IEF': 'valorLicenIef',\n",
        "    'Unidade de Análise': 'unidadeAnalise',\n",
        "    'Natureza_Outorga': 'naturezaOutorga',\n",
        "    'Portaria_Renovada_Retificada': 'portRenovRetif'\n",
        "}, inplace = True)\n",
        "#df.columns\n",
        "\n",
        "df['publicacao'] = pd.to_datetime(df['publicacao'], format='%d/%m/%Y')\n",
        "df['vencimento'] = pd.to_datetime(df['vencimento'], format='%d/%m/%Y')\n",
        "#df[['publicacao', 'vencimento', 'latitude', 'longitude']].head()\n",
        "\n",
        "df['latGrau'] = df['latGrau'].str.replace('º', '')\n",
        "df['longGrau'] = df['longGrau'].str.replace('º', '')\n",
        "#df[['latGrau', 'longGrau']].head()\n",
        "\n",
        "df['latMin'] = df['latMin'].str.replace('´', '')\n",
        "df['longMin'] = df['longMin'].str.replace('´', '')\n",
        "#df[['latMin', 'longMin']].head()\n",
        "\n",
        "df['latSeg'] = df['latSeg'].str.replace('\"', '')\n",
        "df['longSeg'] = df['longSeg'].str.replace('\"', '')\n",
        "#df[['latSeg', 'longSeg']].head()\n",
        "\n",
        "#df.loc['48302/2019']['latSeg']\n",
        "df['latSeg'] = df['latSeg'].str.replace(',', '.')\n",
        "df['longSeg'] = df['longSeg'].str.replace(',', '.')\n",
        "df['latSeg'] = df['latSeg'].str.replace(' ', '')\n",
        "df['longSeg'] = df['longSeg'].str.replace(' ', '')\n",
        "df['latitude'] = df['latitude'].str.replace(',', '.')\n",
        "df['longitude'] = df['longitude'].str.replace(',', '.')\n",
        "\n",
        "df[[\"latGrau\", \"latMin\", \"latSeg\", \"longGrau\", \"longMin\", \"longSeg\"]] = df[[\"latGrau\", \"latMin\", \"latSeg\", \"longGrau\", \"longMin\", \"longSeg\"]].apply(pd.to_numeric)\n",
        "#df[['latitude', 'latGrau', 'latMin', 'latSeg', 'longitude', 'longGrau', 'longMin', 'longSeg', ]].head()\n",
        "\n",
        "df[[\"utmX\", \"utmY\"]] = df[[\"utmX\", \"utmY\"]].apply(pd.to_numeric)\n",
        "#(df[[\"utmX\", \"utmY\"]].dropna()\n",
        "#    .head())\n",
        "\n",
        "df['longDec'] = -1 * (df['longGrau'] + df['longMin']/60 + df['longSeg']/3600)\n",
        "df['latDec'] = -1 * (df['latGrau'] + df['latMin']/60 + df['latSeg']/3600)\n",
        "#df[['latDec', 'longDec']].head()\n",
        "#print(outorga.shape)\n",
        "outorga = (df[df['tipo'].str.contains(\"Superficial\")]\n",
        "     .drop_duplicates())\n",
        "#print(outorga.shape)\n",
        "outorga = outorga[~outorga['modoUso'].str.contains('TRAVESSIA')]\n",
        "#print(outorga.shape)\n",
        "outorga = outorga[outorga['vencimento'] > '2019-07-01']\n",
        "#print(outorga.shape)\n",
        "outorga = outorga[(outorga['status'] == 'OUTORGA RENOVADA') | (outorga['status'] == 'OUTORGA DEFERIDA') | (outorga['status'] == 'CADASTRO EFETIVADO')]\n",
        "\n",
        "#print(df.shape, outorga.shape)\n",
        "#outorga.head()\n",
        "\n",
        "sad69utm = outorga[(outorga['datum'] == 'SAD 69')].dropna(subset=['utmX'])\n",
        "#print(sad69utm.shape)\n",
        "wgs84utm = outorga[outorga['datum'] == 'WGS84'].dropna(subset=['utmX'])\n",
        "#print(wgs84utm.shape)\n",
        "sad69scg = outorga[(outorga['datum'] == 'SAD 69')].dropna(subset=['latDec'])\n",
        "#print(sad69scg.shape)\n",
        "#print(sad69scg.head())\n",
        "wgs84scg = outorga[(outorga['datum'] == 'WGS84')].dropna(subset=['latDec'])\n",
        "#print(wgs84scg.shape)\n",
        "#print(wgs84scg.head())\n",
        "\n",
        "sad69scg.to_csv(PATH+'sad69scg.csv', index=False, sep = ',')\n",
        "wgs84scg.to_csv(PATH+'wgs84scg.csv', index=False, sep = ',')\n",
        "sad69utm.to_csv(PATH+'sad69utm.csv', index=False, sep = ',')\n",
        "wgs84utm.to_csv(PATH+'wgs84utm.csv', index=False, sep = ',')"
      ],
      "execution_count": 6,
      "outputs": []
    },
    {
      "cell_type": "code",
      "metadata": {
        "id": "jgI2PM7pujFO",
        "colab_type": "code",
        "colab": {}
      },
      "source": [
        "sad69scg = pd.read_csv(PATH+'sad69scg.csv')\n",
        "sad69scgLayer = geopandas.GeoDataFrame(sad69scg, geometry=geopandas.points_from_xy(sad69scg.longDec, sad69scg.latDec))\n",
        "#sad69scgLayer.crs = {'init': 'epsg:4291'}\n",
        "sad69scgLayer.crs = 'epsg:4291'\n",
        "#sad69scgLayer = sad69scgLayer.to_crs({'init': 'epsg:4326'})\n",
        "sad69scgLayer = sad69scgLayer.to_crs('epsg:4326')\n",
        "\n",
        "wgs84scg = pd.read_csv(PATH+'wgs84scg.csv')\n",
        "wgs84scgLayer = geopandas.GeoDataFrame(wgs84scg, geometry=geopandas.points_from_xy(wgs84scg.longDec, wgs84scg.latDec))\n",
        "#wgs84scgLayer.crs = {'init': 'epsg:4326'}\n",
        "wgs84scgLayer.crs = 'epsg:4326'\n",
        "\n",
        "sad69utm = pd.read_csv(PATH+'sad69utm.csv')\n",
        "sad69utmLayer = geopandas.GeoDataFrame(sad69utm, geometry=geopandas.points_from_xy(sad69utm.utmX, sad69utm.utmY))\n",
        "#sad69utmLayer.crs = {'init': 'epsg:29183'}\n",
        "sad69utmLayer.crs = 'epsg:29183'\n",
        "#sad69utmLayer = sad69utmLayer.to_crs({'init': 'epsg:4326'})\n",
        "sad69utmLayer = sad69utmLayer.to_crs('epsg:4326')\n",
        "\n",
        "wgs84utm = pd.read_csv(PATH+'wgs84utm.csv')\n",
        "wgs84utmLayer = geopandas.GeoDataFrame(wgs84utm, geometry=geopandas.points_from_xy(wgs84utm.utmX, wgs84utm.utmY))\n",
        "#wgs84utmLayer.crs = {'init': 'epsg:32723'}\n",
        "wgs84utmLayer.crs = 'epsg:32723'\n",
        "#wgs84utmLayer = wgs84utmLayer.to_crs({'init': 'epsg:4326'})\n",
        "wgs84utmLayer = wgs84utmLayer.to_crs('epsg:4326')"
      ],
      "execution_count": 7,
      "outputs": []
    },
    {
      "cell_type": "code",
      "metadata": {
        "id": "P1KOBzpHvJbe",
        "colab_type": "code",
        "colab": {}
      },
      "source": [
        "outorgaslayer = pd.concat([sad69scgLayer, wgs84scgLayer, sad69utmLayer, wgs84utmLayer])\n",
        "outorgaslayer.crs = 'epsg:4326'\n",
        "outorgaslayer.to_file(PATH+'zapRibSantana.gpkg', layer='outorgas', driver=\"GPKG\")"
      ],
      "execution_count": 8,
      "outputs": []
    },
    {
      "cell_type": "code",
      "metadata": {
        "id": "8dejqQkFviHI",
        "colab_type": "code",
        "colab": {}
      },
      "source": [
        "# outorgasBacia = geopandas.sjoin(outorgaslayer, bacia, how=\"inner\", op='intersects')\n",
        "outorgasBacia = geopandas.sjoin(outorgaslayer, bacia, how=\"inner\", op='within')"
      ],
      "execution_count": 10,
      "outputs": []
    },
    {
      "cell_type": "code",
      "metadata": {
        "id": "4jwDhEy9i2Pr",
        "colab_type": "code",
        "colab": {}
      },
      "source": [
        "outorgasBacia['captacao'] = 0.5/1000\n",
        "outorgasBacia.to_file(PATH+'zapRibSantana.gpkg', layer='outorgasBacia', driver=\"GPKG\")"
      ],
      "execution_count": 11,
      "outputs": []
    },
    {
      "cell_type": "code",
      "metadata": {
        "id": "gyyhBHqTk6Zr",
        "colab_type": "code",
        "colab": {
          "base_uri": "https://localhost:8080/",
          "height": 285
        },
        "outputId": "ce6f1fb9-b7b3-408a-bd1a-d036d84e7501"
      },
      "source": [
        "base1 = bacia.plot(color='white', edgecolor='black')\n",
        "outorgasBacia.plot(ax=base1, marker='o', color = 'black')\n",
        "# plt.savefig('/home/gorgens/Github/i_zap/03_dispHidrica/outorgasBacia.png')"
      ],
      "execution_count": 12,
      "outputs": [
        {
          "output_type": "execute_result",
          "data": {
            "text/plain": [
              "<matplotlib.axes._subplots.AxesSubplot at 0x7fc0322d29b0>"
            ]
          },
          "metadata": {
            "tags": []
          },
          "execution_count": 12
        },
        {
          "output_type": "display_data",
          "data": {
            "image/png": "[encoded data removed]",
            "text/plain": [
              "<Figure size 432x288 with 1 Axes>"
            ]
          },
          "metadata": {
            "tags": [],
            "needs_background": "light"
          }
        }
      ]
    },
    {
      "cell_type": "markdown",
      "metadata": {
        "id": "hZMc-6TN0gN5",
        "colab_type": "text"
      },
      "source": [
        "## Parte 2 - Disponibilidade hídrica"
      ]
    },
    {
      "cell_type": "code",
      "metadata": {
        "id": "MguyvrnD0lHp",
        "colab_type": "code",
        "colab": {}
      },
      "source": [
        "outorgasBacia = geopandas.read_file(PATH+\"zapRibSantanaUpdate.gpkg\", layer='outorgasBacia')\n",
        "hidricoInteresse = geopandas.read_file(PATH+\"zapRibSantanaUpdate.gpkg\", layer='redeHidro')\n",
        "ottoInteresse = geopandas.read_file(PATH+\"zapRibSantanaUpdate.gpkg\", layer='ottobacias')\n",
        "limitCaptacao = 0.5"
      ],
      "execution_count": 13,
      "outputs": []
    },
    {
      "cell_type": "code",
      "metadata": {
        "id": "n2-_6S0NYKhl",
        "colab_type": "code",
        "colab": {}
      },
      "source": [
        "outorgasBacia = outorgasBacia.drop(['index_right'], axis=1)\n",
        "joinedOutorgas = geopandas.sjoin(outorgasBacia, ottoInteresse, op=\"within\")\n",
        "#print(joinedOutorgas.head())\n",
        "#print(joinedOutorgas[['Processo Outorga', 'cobacia', 'captacao']].head())\n",
        "\n",
        "grouped = joinedOutorgas.groupby('cobacia').sum()\n",
        "grouped.reset_index(inplace=True)\n",
        "\n",
        "grouped = grouped[['cobacia', 'captacao']]\n",
        "#print(grouped.head())\n",
        "\n",
        "hidricoInteresse = hidricoInteresse.merge(grouped, on='cobacia', how='outer')\n",
        "hidricoInteresse.rename(columns={'captacao': 'QdemTotal'}, inplace=True)"
      ],
      "execution_count": 14,
      "outputs": []
    },
    {
      "cell_type": "code",
      "metadata": {
        "id": "zXXso1JTYlSL",
        "colab_type": "code",
        "colab": {}
      },
      "source": [
        "hidricoInteresse['QDH'] = limitCaptacao * hidricoInteresse['q7_10'] - hidricoInteresse['QdemTotal']\n",
        "hidricoInteresse['compromDH'] = ((limitCaptacao * hidricoInteresse['q7_10']) - hidricoInteresse['QDH']) * 100 / (limitCaptacao * hidricoInteresse['q7_10'])\n",
        "hidricoInteresse['Qreg'] = (0.7 * hidricoInteresse['qmld_']) - (limitCaptacao * hidricoInteresse['q7_10'])\n",
        "hidricoInteresse['Viab'] = hidricoInteresse['Qreg'] + hidricoInteresse['QDH']\n",
        "\n",
        "hidricoInteresse['QdemTotal'] = hidricoInteresse['QdemTotal'].fillna(0)\n",
        "hidricoInteresse['QDH'] = hidricoInteresse['QDH'].fillna(0)\n",
        "hidricoInteresse['Qreg'] = hidricoInteresse['Qreg'].fillna(0)\n",
        "hidricoInteresse['compromDH'] = hidricoInteresse['compromDH'].fillna(0)\n",
        "hidricoInteresse['Viab'] = hidricoInteresse['Viab'].fillna(0)\n",
        "\n",
        "hidricoInteresse.to_file(PATH+\"zapRibSantanaUpdate.gpkg\", layer='disponibilidade', driver=\"GPKG\")"
      ],
      "execution_count": 15,
      "outputs": []
    },
    {
      "cell_type": "code",
      "metadata": {
        "id": "ebOWFWxnjL3I",
        "colab_type": "code",
        "colab": {
          "base_uri": "https://localhost:8080/",
          "height": 282
        },
        "outputId": "b61eac7d-fb60-4792-8120-75c288426440"
      },
      "source": [
        "hidricoInteresse.plot(column='QdemTotal', legend=True)"
      ],
      "execution_count": 16,
      "outputs": [
        {
          "output_type": "execute_result",
          "data": {
            "text/plain": [
              "<matplotlib.axes._subplots.AxesSubplot at 0x7fc032272ef0>"
            ]
          },
          "metadata": {
            "tags": []
          },
          "execution_count": 16
        },
        {
          "output_type": "display_data",
          "data": {
            "image/png": "[encoded data removed]",
            "text/plain": [
              "<Figure size 432x288 with 2 Axes>"
            ]
          },
          "metadata": {
            "tags": [],
            "needs_background": "light"
          }
        }
      ]
    }
  ]
}