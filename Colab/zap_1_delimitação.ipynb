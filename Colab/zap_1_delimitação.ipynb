{
  "nbformat": 4,
  "nbformat_minor": 0,
  "metadata": {
    "colab": {
      "name": "zap 1 delimitação.ipynb",
      "provenance": [],
      "collapsed_sections": [],
      "toc_visible": true
    },
    "kernelspec": {
      "name": "python3",
      "display_name": "Python 3"
    }
  },
  "cells": [
    {
      "cell_type": "markdown",
      "metadata": {
        "id": "YyKaARsWZGkr",
        "colab_type": "text"
      },
      "source": [
        "# Preparando ambiente"
      ]
    },
    {
      "cell_type": "code",
      "metadata": {
        "id": "7H7auLf6wU8o",
        "colab_type": "code",
        "colab": {
          "base_uri": "https://localhost:8080/",
          "height": 1000
        },
        "outputId": "8b41d80a-1395-48a3-99f9-b72b3fb112aa"
      },
      "source": [
        "!curl -L http://download.osgeo.org/libspatialindex/spatialindex-src-1.8.5.tar.gz 2>/dev/null | tar xz\n",
        "!apt-get install -qq g++ make\n",
        "import os\n",
        "os.chdir('/content/spatialindex-src-1.8.5')\n",
        "!mount -o remount,exec /content\n",
        "!./configure 2>&1 >/dev/null && make 2>&1 >/dev/null && make install && ldconfig\n",
        "!pip install -q rtree"
      ],
      "execution_count": 1,
      "outputs": [
        {
          "output_type": "stream",
          "text": [
            "mount: /content: mount point not mounted or bad option.\n",
            "./configure: line 6204: /usr/bin/file: No such file or directory\n",
            "/content/spatialindex-src-1.8.5/missing: Unknown `--is-lightweight' option\n",
            "Try `/content/spatialindex-src-1.8.5/missing --help' for more information\n",
            "configure: WARNING: 'missing' script is too old or missing\n",
            "ar: `u' modifier ignored since `D' is the default (see `U')\n",
            "ar: `u' modifier ignored since `D' is the default (see `U')\n",
            "ar: `u' modifier ignored since `D' is the default (see `U')\n",
            "ar: `u' modifier ignored since `D' is the default (see `U')\n",
            "ar: `u' modifier ignored since `D' is the default (see `U')\n",
            "ar: `u' modifier ignored since `D' is the default (see `U')\n",
            "ar: `u' modifier ignored since `D' is the default (see `U')\n",
            "src/tools/.libs/libtools.a(Tools.o): In function `Tools::TemporaryFile::TemporaryFile()':\n",
            "Tools.cc:(.text+0x3d35): warning: the use of `mktemp' is dangerous, better use `mkstemp' or `mkdtemp'\n",
            "ar: `u' modifier ignored since `D' is the default (see `U')\n",
            "ar: `u' modifier ignored since `D' is the default (see `U')\n",
            "Making install in src\n",
            "make[1]: Entering directory '/content/spatialindex-src-1.8.5/src'\n",
            "Making install in storagemanager\n",
            "make[2]: Entering directory '/content/spatialindex-src-1.8.5/src/storagemanager'\n",
            "make[3]: Entering directory '/content/spatialindex-src-1.8.5/src/storagemanager'\n",
            "make[3]: Nothing to be done for 'install-exec-am'.\n",
            "make[3]: Nothing to be done for 'install-data-am'.\n",
            "make[3]: Leaving directory '/content/spatialindex-src-1.8.5/src/storagemanager'\n",
            "make[2]: Leaving directory '/content/spatialindex-src-1.8.5/src/storagemanager'\n",
            "Making install in spatialindex\n",
            "make[2]: Entering directory '/content/spatialindex-src-1.8.5/src/spatialindex'\n",
            "make[3]: Entering directory '/content/spatialindex-src-1.8.5/src/spatialindex'\n",
            "make[3]: Nothing to be done for 'install-exec-am'.\n",
            "make[3]: Nothing to be done for 'install-data-am'.\n",
            "make[3]: Leaving directory '/content/spatialindex-src-1.8.5/src/spatialindex'\n",
            "make[2]: Leaving directory '/content/spatialindex-src-1.8.5/src/spatialindex'\n",
            "Making install in rtree\n",
            "make[2]: Entering directory '/content/spatialindex-src-1.8.5/src/rtree'\n",
            "make[3]: Entering directory '/content/spatialindex-src-1.8.5/src/rtree'\n",
            "make[3]: Nothing to be done for 'install-exec-am'.\n",
            "make[3]: Nothing to be done for 'install-data-am'.\n",
            "make[3]: Leaving directory '/content/spatialindex-src-1.8.5/src/rtree'\n",
            "make[2]: Leaving directory '/content/spatialindex-src-1.8.5/src/rtree'\n",
            "Making install in mvrtree\n",
            "make[2]: Entering directory '/content/spatialindex-src-1.8.5/src/mvrtree'\n",
            "make[3]: Entering directory '/content/spatialindex-src-1.8.5/src/mvrtree'\n",
            "make[3]: Nothing to be done for 'install-exec-am'.\n",
            "make[3]: Nothing to be done for 'install-data-am'.\n",
            "make[3]: Leaving directory '/content/spatialindex-src-1.8.5/src/mvrtree'\n",
            "make[2]: Leaving directory '/content/spatialindex-src-1.8.5/src/mvrtree'\n",
            "Making install in tprtree\n",
            "make[2]: Entering directory '/content/spatialindex-src-1.8.5/src/tprtree'\n",
            "make[3]: Entering directory '/content/spatialindex-src-1.8.5/src/tprtree'\n",
            "make[3]: Nothing to be done for 'install-exec-am'.\n",
            "make[3]: Nothing to be done for 'install-data-am'.\n",
            "make[3]: Leaving directory '/content/spatialindex-src-1.8.5/src/tprtree'\n",
            "make[2]: Leaving directory '/content/spatialindex-src-1.8.5/src/tprtree'\n",
            "Making install in tools\n",
            "make[2]: Entering directory '/content/spatialindex-src-1.8.5/src/tools'\n",
            "make[3]: Entering directory '/content/spatialindex-src-1.8.5/src/tools'\n",
            "make[3]: Nothing to be done for 'install-exec-am'.\n",
            "make[3]: Nothing to be done for 'install-data-am'.\n",
            "make[3]: Leaving directory '/content/spatialindex-src-1.8.5/src/tools'\n",
            "make[2]: Leaving directory '/content/spatialindex-src-1.8.5/src/tools'\n",
            "Making install in capi\n",
            "make[2]: Entering directory '/content/spatialindex-src-1.8.5/src/capi'\n",
            "make[3]: Entering directory '/content/spatialindex-src-1.8.5/src/capi'\n",
            "make[3]: Nothing to be done for 'install-exec-am'.\n",
            "make[3]: Nothing to be done for 'install-data-am'.\n",
            "make[3]: Leaving directory '/content/spatialindex-src-1.8.5/src/capi'\n",
            "make[2]: Leaving directory '/content/spatialindex-src-1.8.5/src/capi'\n",
            "make[2]: Entering directory '/content/spatialindex-src-1.8.5/src'\n",
            "make[3]: Entering directory '/content/spatialindex-src-1.8.5/src'\n",
            "make[3]: Nothing to be done for 'install-exec-am'.\n",
            " /bin/mkdir -p '/usr/local/lib/pkgconfig'\n",
            " /usr/bin/install -c -m 644 libspatialindex.pc '/usr/local/lib/pkgconfig'\n",
            "make[3]: Leaving directory '/content/spatialindex-src-1.8.5/src'\n",
            "make[2]: Leaving directory '/content/spatialindex-src-1.8.5/src'\n",
            "make[1]: Leaving directory '/content/spatialindex-src-1.8.5/src'\n",
            "Making install in .\n",
            "make[1]: Entering directory '/content/spatialindex-src-1.8.5'\n",
            "make[2]: Entering directory '/content/spatialindex-src-1.8.5'\n",
            " /bin/mkdir -p '/usr/local/lib'\n",
            " /bin/bash ./libtool   --mode=install /usr/bin/install -c   libspatialindex.la libspatialindex_c.la '/usr/local/lib'\n",
            "libtool: install: /usr/bin/install -c .libs/libspatialindex.so.4.0.1 /usr/local/lib/libspatialindex.so.4.0.1\n",
            "libtool: install: (cd /usr/local/lib && { ln -s -f libspatialindex.so.4.0.1 libspatialindex.so.4 || { rm -f libspatialindex.so.4 && ln -s libspatialindex.so.4.0.1 libspatialindex.so.4; }; })\n",
            "libtool: install: (cd /usr/local/lib && { ln -s -f libspatialindex.so.4.0.1 libspatialindex.so || { rm -f libspatialindex.so && ln -s libspatialindex.so.4.0.1 libspatialindex.so; }; })\n",
            "libtool: install: /usr/bin/install -c .libs/libspatialindex.lai /usr/local/lib/libspatialindex.la\n",
            "libtool: install: warning: relinking `libspatialindex_c.la'\n",
            "libtool: install: (cd /content/spatialindex-src-1.8.5; /bin/bash /content/spatialindex-src-1.8.5/libtool  --tag CC --mode=relink gcc -Wall -Wno-long-long -pedantic -version-info 4:1:0 -no-undefined -lstdc++ -o libspatialindex_c.la -rpath /usr/local/lib libspatialindex.la src/capi/libsidxc.la -lpthread )\n",
            "libtool: relink: gcc -shared  -fPIC -DPIC  -Wl,--whole-archive src/capi/.libs/libsidxc.a -Wl,--no-whole-archive  -lstdc++ -L/usr/local/lib -lspatialindex -lpthread    -Wl,-soname -Wl,libspatialindex_c.so.4 -o .libs/libspatialindex_c.so.4.0.1\n",
            "libtool: install: /usr/bin/install -c .libs/libspatialindex_c.so.4.0.1T /usr/local/lib/libspatialindex_c.so.4.0.1\n",
            "libtool: install: (cd /usr/local/lib && { ln -s -f libspatialindex_c.so.4.0.1 libspatialindex_c.so.4 || { rm -f libspatialindex_c.so.4 && ln -s libspatialindex_c.so.4.0.1 libspatialindex_c.so.4; }; })\n",
            "libtool: install: (cd /usr/local/lib && { ln -s -f libspatialindex_c.so.4.0.1 libspatialindex_c.so || { rm -f libspatialindex_c.so && ln -s libspatialindex_c.so.4.0.1 libspatialindex_c.so; }; })\n",
            "libtool: install: /usr/bin/install -c .libs/libspatialindex_c.lai /usr/local/lib/libspatialindex_c.la\n",
            "libtool: install: /usr/bin/install -c .libs/libspatialindex.a /usr/local/lib/libspatialindex.a\n",
            "libtool: install: chmod 644 /usr/local/lib/libspatialindex.a\n",
            "libtool: install: ranlib /usr/local/lib/libspatialindex.a\n",
            "libtool: install: /usr/bin/install -c .libs/libspatialindex_c.a /usr/local/lib/libspatialindex_c.a\n",
            "libtool: install: chmod 644 /usr/local/lib/libspatialindex_c.a\n",
            "libtool: install: ranlib /usr/local/lib/libspatialindex_c.a\n",
            "libtool: finish: PATH=\"/usr/local/nvidia/bin:/usr/local/cuda/bin:/usr/local/sbin:/usr/local/bin:/usr/sbin:/usr/bin:/sbin:/bin:/tools/node/bin:/tools/google-cloud-sdk/bin:/opt/bin:/sbin\" ldconfig -n /usr/local/lib\n",
            "----------------------------------------------------------------------\n",
            "Libraries have been installed in:\n",
            "   /usr/local/lib\n",
            "\n",
            "If you ever happen to want to link against installed libraries\n",
            "in a given directory, LIBDIR, you must either use libtool, and\n",
            "specify the full pathname of the library, or use the `-LLIBDIR'\n",
            "flag during linking and do at least one of the following:\n",
            "   - add LIBDIR to the `LD_LIBRARY_PATH' environment variable\n",
            "     during execution\n",
            "   - add LIBDIR to the `LD_RUN_PATH' environment variable\n",
            "     during linking\n",
            "   - use the `-Wl,-rpath -Wl,LIBDIR' linker flag\n",
            "   - have your system administrator add LIBDIR to `/etc/ld.so.conf'\n",
            "\n",
            "See any operating system documentation about shared libraries for\n",
            "more information, such as the ld(1) and ld.so(8) manual pages.\n",
            "----------------------------------------------------------------------\n",
            "make[2]: Nothing to be done for 'install-data-am'.\n",
            "make[2]: Leaving directory '/content/spatialindex-src-1.8.5'\n",
            "make[1]: Leaving directory '/content/spatialindex-src-1.8.5'\n",
            "Making install in test\n",
            "make[1]: Entering directory '/content/spatialindex-src-1.8.5/test'\n",
            "Making install in geometry\n",
            "make[2]: Entering directory '/content/spatialindex-src-1.8.5/test/geometry'\n",
            "make[3]: Entering directory '/content/spatialindex-src-1.8.5/test/geometry'\n",
            "make[3]: Nothing to be done for 'install-exec-am'.\n",
            "make[3]: Nothing to be done for 'install-data-am'.\n",
            "make[3]: Leaving directory '/content/spatialindex-src-1.8.5/test/geometry'\n",
            "make[2]: Leaving directory '/content/spatialindex-src-1.8.5/test/geometry'\n",
            "Making install in rtree\n",
            "make[2]: Entering directory '/content/spatialindex-src-1.8.5/test/rtree'\n",
            "make[3]: Entering directory '/content/spatialindex-src-1.8.5/test/rtree'\n",
            "make[3]: Nothing to be done for 'install-exec-am'.\n",
            "make[3]: Nothing to be done for 'install-data-am'.\n",
            "make[3]: Leaving directory '/content/spatialindex-src-1.8.5/test/rtree'\n",
            "make[2]: Leaving directory '/content/spatialindex-src-1.8.5/test/rtree'\n",
            "Making install in mvrtree\n",
            "make[2]: Entering directory '/content/spatialindex-src-1.8.5/test/mvrtree'\n",
            "make[3]: Entering directory '/content/spatialindex-src-1.8.5/test/mvrtree'\n",
            "make[3]: Nothing to be done for 'install-exec-am'.\n",
            "make[3]: Nothing to be done for 'install-data-am'.\n",
            "make[3]: Leaving directory '/content/spatialindex-src-1.8.5/test/mvrtree'\n",
            "make[2]: Leaving directory '/content/spatialindex-src-1.8.5/test/mvrtree'\n",
            "Making install in tprtree\n",
            "make[2]: Entering directory '/content/spatialindex-src-1.8.5/test/tprtree'\n",
            "make[3]: Entering directory '/content/spatialindex-src-1.8.5/test/tprtree'\n",
            "make[3]: Nothing to be done for 'install-exec-am'.\n",
            "make[3]: Nothing to be done for 'install-data-am'.\n",
            "make[3]: Leaving directory '/content/spatialindex-src-1.8.5/test/tprtree'\n",
            "make[2]: Leaving directory '/content/spatialindex-src-1.8.5/test/tprtree'\n",
            "make[2]: Entering directory '/content/spatialindex-src-1.8.5/test'\n",
            "make[3]: Entering directory '/content/spatialindex-src-1.8.5/test'\n",
            "make[3]: Nothing to be done for 'install-exec-am'.\n",
            "make[3]: Nothing to be done for 'install-data-am'.\n",
            "make[3]: Leaving directory '/content/spatialindex-src-1.8.5/test'\n",
            "make[2]: Leaving directory '/content/spatialindex-src-1.8.5/test'\n",
            "make[1]: Leaving directory '/content/spatialindex-src-1.8.5/test'\n",
            "Making install in include\n",
            "make[1]: Entering directory '/content/spatialindex-src-1.8.5/include'\n",
            "make[2]: Entering directory '/content/spatialindex-src-1.8.5/include'\n",
            "make[2]: Nothing to be done for 'install-exec-am'.\n",
            " /bin/mkdir -p '/usr/local/include'\n",
            " /bin/mkdir -p '/usr/local/include/spatialindex/tools'\n",
            " /usr/bin/install -c -m 644  spatialindex/tools/PointerPool.h spatialindex/tools/PoolPointer.h spatialindex/tools/rand48.h spatialindex/tools/SmartPointer.h spatialindex/tools/Tools.h '/usr/local/include/spatialindex/tools'\n",
            " /bin/mkdir -p '/usr/local/include/spatialindex'\n",
            " /usr/bin/install -c -m 644  spatialindex/SpatialIndex.h spatialindex/RTree.h spatialindex/MVRTree.h spatialindex/TPRTree.h spatialindex/Point.h spatialindex/Region.h spatialindex/LineSegment.h spatialindex/TimePoint.h spatialindex/TimeRegion.h spatialindex/MovingPoint.h spatialindex/MovingRegion.h spatialindex/Version.h '/usr/local/include/spatialindex'\n",
            " /bin/mkdir -p '/usr/local/include/spatialindex/capi'\n",
            " /usr/bin/install -c -m 644  spatialindex/capi/BoundsQuery.h spatialindex/capi/CountVisitor.h spatialindex/capi/CustomStorage.h spatialindex/capi/DataStream.h spatialindex/capi/Error.h spatialindex/capi/IdVisitor.h spatialindex/capi/Index.h spatialindex/capi/LeafQuery.h spatialindex/capi/ObjVisitor.h spatialindex/capi/sidx_api.h spatialindex/capi/sidx_export.h spatialindex/capi/sidx_config.h spatialindex/capi/sidx_impl.h spatialindex/capi/Utility.h '/usr/local/include/spatialindex/capi'\n",
            "make[2]: Leaving directory '/content/spatialindex-src-1.8.5/include'\n",
            "make[1]: Leaving directory '/content/spatialindex-src-1.8.5/include'\n",
            "/sbin/ldconfig.real: /usr/local/lib/python3.6/dist-packages/ideep4py/lib/libmkldnn.so.0 is not a symbolic link\n",
            "\n",
            "\u001b[K     |████████████████████████████████| 71kB 2.0MB/s \n",
            "\u001b[?25h  Building wheel for rtree (setup.py) ... \u001b[?25l\u001b[?25hdone\n"
          ],
          "name": "stdout"
        }
      ]
    },
    {
      "cell_type": "code",
      "metadata": {
        "id": "35EPeY0Sz6PD",
        "colab_type": "code",
        "colab": {
          "base_uri": "https://localhost:8080/",
          "height": 799
        },
        "outputId": "339e96ed-76c4-4c6d-a2af-f9427ed02f5c"
      },
      "source": [
        "!pip install --upgrade geopandas\n",
        "!pip install --upgrade rtree\n",
        "!pip install --upgrade pyshp\n",
        "!pip install --upgrade shapely\n",
        "!pip install --upgrade descartes"
      ],
      "execution_count": 2,
      "outputs": [
        {
          "output_type": "stream",
          "text": [
            "Collecting geopandas\n",
            "\u001b[?25l  Downloading https://files.pythonhosted.org/packages/f8/dd/c0a6429cc7692efd5c99420c9df525c40f472b50705871a770449027e244/geopandas-0.8.0-py2.py3-none-any.whl (962kB)\n",
            "\u001b[K     |████████████████████████████████| 962kB 2.7MB/s \n",
            "\u001b[?25hCollecting fiona\n",
            "\u001b[?25l  Downloading https://files.pythonhosted.org/packages/ec/20/4e63bc5c6e62df889297b382c3ccd4a7a488b00946aaaf81a118158c6f09/Fiona-1.8.13.post1-cp36-cp36m-manylinux1_x86_64.whl (14.7MB)\n",
            "\u001b[K     |████████████████████████████████| 14.7MB 271kB/s \n",
            "\u001b[?25hRequirement already satisfied, skipping upgrade: shapely in /usr/local/lib/python3.6/dist-packages (from geopandas) (1.7.0)\n",
            "Requirement already satisfied, skipping upgrade: pandas>=0.23.0 in /usr/local/lib/python3.6/dist-packages (from geopandas) (1.0.5)\n",
            "Collecting pyproj>=2.2.0\n",
            "\u001b[?25l  Downloading https://files.pythonhosted.org/packages/e5/c3/071e080230ac4b6c64f1a2e2f9161c9737a2bc7b683d2c90b024825000c0/pyproj-2.6.1.post1-cp36-cp36m-manylinux2010_x86_64.whl (10.9MB)\n",
            "\u001b[K     |████████████████████████████████| 10.9MB 30.0MB/s \n",
            "\u001b[?25hRequirement already satisfied, skipping upgrade: click<8,>=4.0 in /usr/local/lib/python3.6/dist-packages (from fiona->geopandas) (7.1.2)\n",
            "Collecting munch\n",
            "  Downloading https://files.pythonhosted.org/packages/cc/ab/85d8da5c9a45e072301beb37ad7f833cd344e04c817d97e0cc75681d248f/munch-2.5.0-py2.py3-none-any.whl\n",
            "Collecting click-plugins>=1.0\n",
            "  Downloading https://files.pythonhosted.org/packages/e9/da/824b92d9942f4e472702488857914bdd50f73021efea15b4cad9aca8ecef/click_plugins-1.1.1-py2.py3-none-any.whl\n",
            "Collecting cligj>=0.5\n",
            "  Downloading https://files.pythonhosted.org/packages/e4/be/30a58b4b0733850280d01f8bd132591b4668ed5c7046761098d665ac2174/cligj-0.5.0-py3-none-any.whl\n",
            "Requirement already satisfied, skipping upgrade: six>=1.7 in /usr/local/lib/python3.6/dist-packages (from fiona->geopandas) (1.12.0)\n",
            "Requirement already satisfied, skipping upgrade: attrs>=17 in /usr/local/lib/python3.6/dist-packages (from fiona->geopandas) (19.3.0)\n",
            "Requirement already satisfied, skipping upgrade: numpy>=1.13.3 in /usr/local/lib/python3.6/dist-packages (from pandas>=0.23.0->geopandas) (1.18.5)\n",
            "Requirement already satisfied, skipping upgrade: pytz>=2017.2 in /usr/local/lib/python3.6/dist-packages (from pandas>=0.23.0->geopandas) (2018.9)\n",
            "Requirement already satisfied, skipping upgrade: python-dateutil>=2.6.1 in /usr/local/lib/python3.6/dist-packages (from pandas>=0.23.0->geopandas) (2.8.1)\n",
            "Installing collected packages: munch, click-plugins, cligj, fiona, pyproj, geopandas\n",
            "Successfully installed click-plugins-1.1.1 cligj-0.5.0 fiona-1.8.13.post1 geopandas-0.8.0 munch-2.5.0 pyproj-2.6.1.post1\n",
            "Requirement already up-to-date: rtree in /usr/local/lib/python3.6/dist-packages (0.9.4)\n",
            "Requirement already satisfied, skipping upgrade: setuptools in /usr/local/lib/python3.6/dist-packages (from rtree) (47.3.1)\n",
            "Collecting pyshp\n",
            "\u001b[?25l  Downloading https://files.pythonhosted.org/packages/27/16/3bf15aa864fb77845fab8007eda22c2bd67bd6c1fd13496df452c8c43621/pyshp-2.1.0.tar.gz (215kB)\n",
            "\u001b[K     |████████████████████████████████| 225kB 2.7MB/s \n",
            "\u001b[?25hBuilding wheels for collected packages: pyshp\n",
            "  Building wheel for pyshp (setup.py) ... \u001b[?25l\u001b[?25hdone\n",
            "  Created wheel for pyshp: filename=pyshp-2.1.0-cp36-none-any.whl size=32609 sha256=ef5b6801d1af649eafcb6bb44b9a66c450c2f350abd5ec7e0b15cbbd7c5b2be9\n",
            "  Stored in directory: /root/.cache/pip/wheels/a6/0c/de/321b5192ad416b328975a2f0385f72c64db4656501eba7cc1a\n",
            "Successfully built pyshp\n",
            "Installing collected packages: pyshp\n",
            "Successfully installed pyshp-2.1.0\n",
            "Requirement already up-to-date: shapely in /usr/local/lib/python3.6/dist-packages (1.7.0)\n",
            "Requirement already up-to-date: descartes in /usr/local/lib/python3.6/dist-packages (1.1.0)\n",
            "Requirement already satisfied, skipping upgrade: matplotlib in /usr/local/lib/python3.6/dist-packages (from descartes) (3.2.2)\n",
            "Requirement already satisfied, skipping upgrade: numpy>=1.11 in /usr/local/lib/python3.6/dist-packages (from matplotlib->descartes) (1.18.5)\n",
            "Requirement already satisfied, skipping upgrade: cycler>=0.10 in /usr/local/lib/python3.6/dist-packages (from matplotlib->descartes) (0.10.0)\n",
            "Requirement already satisfied, skipping upgrade: python-dateutil>=2.1 in /usr/local/lib/python3.6/dist-packages (from matplotlib->descartes) (2.8.1)\n",
            "Requirement already satisfied, skipping upgrade: kiwisolver>=1.0.1 in /usr/local/lib/python3.6/dist-packages (from matplotlib->descartes) (1.2.0)\n",
            "Requirement already satisfied, skipping upgrade: pyparsing!=2.0.4,!=2.1.2,!=2.1.6,>=2.0.1 in /usr/local/lib/python3.6/dist-packages (from matplotlib->descartes) (2.4.7)\n",
            "Requirement already satisfied, skipping upgrade: six in /usr/local/lib/python3.6/dist-packages (from cycler>=0.10->matplotlib->descartes) (1.12.0)\n"
          ],
          "name": "stdout"
        }
      ]
    },
    {
      "cell_type": "code",
      "metadata": {
        "id": "UV2WDGRLxdLO",
        "colab_type": "code",
        "colab": {}
      },
      "source": [
        "import pandas as pd\n",
        "import geopandas\n",
        "import matplotlib.pyplot as plt"
      ],
      "execution_count": 3,
      "outputs": []
    },
    {
      "cell_type": "code",
      "metadata": {
        "id": "r-c1dZW9R-To",
        "colab_type": "code",
        "colab": {}
      },
      "source": [
        "PATH = '/content/drive/My Drive/Colab datasets/izap/'\n",
        "VAZFILE = '2406_JQ_Igam_UFV_reg_vazao_lin.shp'\n",
        "OTTOFILE = '0102_jq_otto_bacia_pol.shp'\n",
        "CSV = 'OutorgasFelicioDosSantos.csv'\n",
        "EPSG = 4326"
      ],
      "execution_count": 4,
      "outputs": []
    },
    {
      "cell_type": "markdown",
      "metadata": {
        "id": "B0FH5BnlRhut",
        "colab_type": "text"
      },
      "source": [
        "# Delimitação da bacia\n"
      ]
    },
    {
      "cell_type": "code",
      "metadata": {
        "id": "ZFxq9cM4dr-s",
        "colab_type": "code",
        "colab": {}
      },
      "source": [
        "CODRIO = \"7582998\""
      ],
      "execution_count": 5,
      "outputs": []
    },
    {
      "cell_type": "code",
      "metadata": {
        "id": "tTu0bjtNUjk_",
        "colab_type": "code",
        "colab": {
          "base_uri": "https://localhost:8080/",
          "height": 119
        },
        "outputId": "db19125c-6164-45ae-bc77-484d0db31cf8"
      },
      "source": [
        "hidrico = geopandas.read_file(PATH+VAZFILE, encoding='ISO-8859-1')\n",
        "hidrico.crs = 'EPSG:'+str(EPSG)\n",
        "hidricoInteresse = hidrico[hidrico['cocursodag'].str.contains(CODRIO)]\n",
        "  \n",
        "hidricoInteresse.loc[:,'q7_10'] = [x.replace(',', '.') for x in hidricoInteresse['q7_10']]\n",
        "hidricoInteresse.loc[:,'q7_10'] = hidricoInteresse['q7_10'].astype(float)\n",
        "\n",
        "hidricoInteresse.loc[:,'qmld_'] = [x.replace(',', '.') for x in hidricoInteresse['qmld_']]\n",
        "hidricoInteresse.loc[:,'qmld_'] = hidricoInteresse['qmld_'].astype(float)"
      ],
      "execution_count": 6,
      "outputs": [
        {
          "output_type": "stream",
          "text": [
            "/usr/local/lib/python3.6/dist-packages/geopandas/geodataframe.py:831: SettingWithCopyWarning: \n",
            "A value is trying to be set on a copy of a slice from a DataFrame.\n",
            "Try using .loc[row_indexer,col_indexer] = value instead\n",
            "\n",
            "See the caveats in the documentation: https://pandas.pydata.org/pandas-docs/stable/user_guide/indexing.html#returning-a-view-versus-a-copy\n",
            "  super(GeoDataFrame, self).__setitem__(key, value)\n"
          ],
          "name": "stderr"
        }
      ]
    },
    {
      "cell_type": "code",
      "metadata": {
        "id": "_RPjYKFaYnyr",
        "colab_type": "code",
        "colab": {
          "base_uri": "https://localhost:8080/",
          "height": 282
        },
        "outputId": "f9387e71-b55d-4278-af94-a1c9d67e225c"
      },
      "source": [
        "hidricoInteresse.plot()\n",
        "#plt.savefig('/home/gorgens/Github/i_zap/01_delimitacao/hidrico.png')"
      ],
      "execution_count": 7,
      "outputs": [
        {
          "output_type": "execute_result",
          "data": {
            "text/plain": [
              "<matplotlib.axes._subplots.AxesSubplot at 0x7fd73cf716d8>"
            ]
          },
          "metadata": {
            "tags": []
          },
          "execution_count": 7
        },
        {
          "output_type": "display_data",
          "data": {
            "image/png": "[encoded data removed]",
            "text/plain": [
              "<Figure size 432x288 with 1 Axes>"
            ]
          },
          "metadata": {
            "tags": [],
            "needs_background": "light"
          }
        }
      ]
    },
    {
      "cell_type": "code",
      "metadata": {
        "id": "Z2-ex0lmU9DA",
        "colab_type": "code",
        "colab": {}
      },
      "source": [
        "otto = geopandas.read_file(PATH+OTTOFILE)\n",
        "otto.crs = 'EPSG:'+str(EPSG)\n",
        "\n",
        "ottoInteresse = otto[otto['cocursodag'].str.contains('^'+CODRIO)]\n",
        "\n",
        "\n",
        "ottoClean = ottoInteresse[['nunivotto3', 'geometry']]\n",
        "bacia = ottoClean.dissolve(by='nunivotto3')"
      ],
      "execution_count": 8,
      "outputs": []
    },
    {
      "cell_type": "code",
      "metadata": {
        "id": "NYk2KJJKYb0t",
        "colab_type": "code",
        "colab": {
          "base_uri": "https://localhost:8080/",
          "height": 285
        },
        "outputId": "8fbb0c5a-04ba-46ce-9b34-e6ef95fc068d"
      },
      "source": [
        "ottoInteresse.plot()\n",
        "#plt.savefig('/home/gorgens/Github/i_zap/01_delimitacao/otto.png')"
      ],
      "execution_count": 9,
      "outputs": [
        {
          "output_type": "execute_result",
          "data": {
            "text/plain": [
              "<matplotlib.axes._subplots.AxesSubplot at 0x7fd73cf45ba8>"
            ]
          },
          "metadata": {
            "tags": []
          },
          "execution_count": 9
        },
        {
          "output_type": "display_data",
          "data": {
            "image/png": "[encoded data removed]",
            "text/plain": [
              "<Figure size 432x288 with 1 Axes>"
            ]
          },
          "metadata": {
            "tags": [],
            "needs_background": "light"
          }
        }
      ]
    },
    {
      "cell_type": "code",
      "metadata": {
        "id": "652WUKGdYi1K",
        "colab_type": "code",
        "colab": {
          "base_uri": "https://localhost:8080/",
          "height": 285
        },
        "outputId": "b4adffb0-231b-4280-94d5-887f21d6b62a"
      },
      "source": [
        "bacia.plot()\n",
        "#plt.savefig('/home/gorgens/Github/i_zap/01_delimitacao/bacia.png')"
      ],
      "execution_count": 10,
      "outputs": [
        {
          "output_type": "execute_result",
          "data": {
            "text/plain": [
              "<matplotlib.axes._subplots.AxesSubplot at 0x7fd73ce93780>"
            ]
          },
          "metadata": {
            "tags": []
          },
          "execution_count": 10
        },
        {
          "output_type": "display_data",
          "data": {
            "image/png": "[encoded data removed]",
            "text/plain": [
              "<Figure size 432x288 with 1 Axes>"
            ]
          },
          "metadata": {
            "tags": [],
            "needs_background": "light"
          }
        }
      ]
    },
    {
      "cell_type": "code",
      "metadata": {
        "id": "8_Qwl5kCU-vX",
        "colab_type": "code",
        "colab": {}
      },
      "source": [
        "hidricoInteresse.to_file(PATH+\"zapRibSantana.gpkg\", layer='redeHidro', driver=\"GPKG\")\n",
        "ottoInteresse.to_file(PATH+\"zapRibSantana.gpkg\", layer='ottobacias', driver=\"GPKG\")\n",
        "bacia.to_file(PATH+\"zapRibSantana.gpkg\", layer='bacia', driver=\"GPKG\")"
      ],
      "execution_count": 11,
      "outputs": []
    }
  ]
}